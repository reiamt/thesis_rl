{
 "cells": [
  {
   "cell_type": "code",
   "execution_count": 15,
   "metadata": {},
   "outputs": [],
   "source": [
    "import matplotlib.pyplot as plt\n",
    "import pandas as pd\n",
    "\n",
    "jan_01 = pd.read_csv('data_recorder/database/data_exports/paper_data/XBTUSD_2020-01-01.csv.xz' ,compression='xz')#, index_col='system_time')"
   ]
  },
  {
   "cell_type": "code",
   "execution_count": 36,
   "metadata": {},
   "outputs": [],
   "source": [
    "def plot_ts(df):\n",
    "    plt.plot(df['midpoint'])\n",
    "    plt.title(df.index[3000][:10])\n",
    "    plt.show()\n"
   ]
  },
  {
   "cell_type": "code",
   "execution_count": 32,
   "metadata": {},
   "outputs": [],
   "source": [
    "from datetime import datetime as dt\n",
    "from datetime import timedelta\n",
    "\n",
    "start_date = dt(2020,1,1) #of fitting, ie training starts on one day later\n",
    "basepath = 'data_recorder/database/data_exports/paper_data/XBTUSD_'\n",
    "num_days = 8\n",
    "\n",
    "paths = [basepath + (start_date+timedelta(i)).strftime(\"%Y-%m-%d\") + '.csv.xz' \n",
    "         for i in range(num_days+1)]"
   ]
  },
  {
   "cell_type": "code",
   "execution_count": 51,
   "metadata": {},
   "outputs": [],
   "source": [
    "def calc_summary_statistics(df):\n",
    "    # calc hodl performance\n",
    "    start_mean = df.midpoint[:60].mean()\n",
    "    end_mean = df.midpoint[-60:].mean()\n",
    "    hodl_mean = round((end_mean/start_mean-1)*100, 2)\n",
    "    overall_mean = round(df.midpoint.mean(), 2)\n",
    "    return hodl_mean, overall_mean"
   ]
  },
  {
   "cell_type": "code",
   "execution_count": 52,
   "metadata": {},
   "outputs": [
    {
     "name": "stdout",
     "output_type": "stream",
     "text": [
      "2019-12-31\n",
      "1.1 7186.75\n",
      "2020-01-02\n",
      "-3.09 7078.84\n",
      "2020-01-03\n",
      "4.96 7201.11\n",
      "2020-01-04\n",
      "0.62 7319.13\n",
      "2020-01-05\n",
      "0.01 7428.68\n",
      "2020-01-06\n",
      "5.18 7513.44\n",
      "2020-01-07\n",
      "4.14 7912.98\n",
      "2020-01-08\n",
      "0.25 8237.67\n",
      "2020-01-09\n",
      "-3.26 7910.34\n"
     ]
    }
   ],
   "source": [
    "for path in paths:\n",
    "    df = pd.read_csv(path, compression='xz', index_col=0)\n",
    "    hodl, mean = calc_summary_statistics(df)\n",
    "    print(df.index[3000][:10])\n",
    "    print(hodl, mean)"
   ]
  },
  {
   "cell_type": "code",
   "execution_count": 60,
   "metadata": {},
   "outputs": [
    {
     "data": {
      "text/plain": [
       "{'dqn': {datetime.date(2020, 1, 9): 3,\n",
       "  datetime.date(2020, 1, 10): 3,\n",
       "  datetime.date(2020, 1, 11): 3,\n",
       "  datetime.date(2020, 1, 12): 3,\n",
       "  datetime.date(2020, 1, 13): 3,\n",
       "  datetime.date(2020, 1, 14): 3,\n",
       "  datetime.date(2020, 1, 15): 3,\n",
       "  datetime.date(2020, 1, 16): 3,\n",
       "  datetime.date(2020, 1, 17): 3,\n",
       "  datetime.date(2020, 1, 18): 3},\n",
       " 'ppo': {datetime.date(2020, 1, 9): 3,\n",
       "  datetime.date(2020, 1, 10): 3,\n",
       "  datetime.date(2020, 1, 11): 3,\n",
       "  datetime.date(2020, 1, 12): 3,\n",
       "  datetime.date(2020, 1, 13): 3,\n",
       "  datetime.date(2020, 1, 14): 3,\n",
       "  datetime.date(2020, 1, 15): 3,\n",
       "  datetime.date(2020, 1, 16): 3,\n",
       "  datetime.date(2020, 1, 17): 3,\n",
       "  datetime.date(2020, 1, 18): 3},\n",
       " 'a2c': {datetime.date(2020, 1, 9): 3,\n",
       "  datetime.date(2020, 1, 10): 3,\n",
       "  datetime.date(2020, 1, 11): 3,\n",
       "  datetime.date(2020, 1, 12): 3,\n",
       "  datetime.date(2020, 1, 13): 3,\n",
       "  datetime.date(2020, 1, 14): 3,\n",
       "  datetime.date(2020, 1, 15): 3,\n",
       "  datetime.date(2020, 1, 16): 3,\n",
       "  datetime.date(2020, 1, 17): 3,\n",
       "  datetime.date(2020, 1, 18): 3}}"
      ]
     },
     "execution_count": 60,
     "metadata": {},
     "output_type": "execute_result"
    }
   ],
   "source": [
    "algos = ['dqn', 'ppo', 'a2c']\n",
    "start = dt(2020, 1, 9)\n",
    "st_dict = {}\n",
    "for a in algos:\n",
    "    st_dict[a] = {}\n",
    "    for i in range(10):\n",
    "        st_dict[a][(start+timedelta(i)).date()] = 3\n",
    "        \n",
    "        \n",
    "st_dict"
   ]
  },
  {
   "cell_type": "code",
   "execution_count": 83,
   "metadata": {},
   "outputs": [
    {
     "data": {
      "text/plain": [
       "(109.90846164854499, 110.46498755038729)"
      ]
     },
     "execution_count": 83,
     "metadata": {},
     "output_type": "execute_result"
    }
   ],
   "source": [
    "(109.90846164854499, 110.46498755038729)"
   ]
  },
  {
   "cell_type": "code",
   "execution_count": 84,
   "metadata": {},
   "outputs": [],
   "source": [
    "import pickle\n",
    "\n",
    "with open('test_statistics_dict.pkl', 'rb') as f:\n",
    "    x = pickle.load(f)\n"
   ]
  },
  {
   "cell_type": "code",
   "execution_count": 85,
   "metadata": {},
   "outputs": [
    {
     "data": {
      "text/plain": [
       "(112.26600003647727, 110.46498755038729)"
      ]
     },
     "execution_count": 85,
     "metadata": {},
     "output_type": "execute_result"
    }
   ],
   "source": [
    "rl_balance = 100\n",
    "hodl_balance = 100\n",
    "\n",
    "for date in x['a2c'].keys():\n",
    "    rl_balance *= (1 + x['a2c'][date]['episode pnl']/100)\n",
    "    hodl_balance *= (1 + x['a2c'][date]['episode hodl pnl']/100)\n",
    "rl_balance, hodl_balance"
   ]
  },
  {
   "cell_type": "code",
   "execution_count": 78,
   "metadata": {},
   "outputs": [
    {
     "data": {
      "text/plain": [
       "102.15786208173267"
      ]
     },
     "execution_count": 78,
     "metadata": {},
     "output_type": "execute_result"
    }
   ],
   "source": [
    "rl_balance = 100\n",
    "rl_balance *= (1+x['a2c'][dt(2020,1,12,0,0)]['episode pnl']/100)\n",
    "rl_balance"
   ]
  },
  {
   "cell_type": "code",
   "execution_count": 88,
   "metadata": {},
   "outputs": [],
   "source": [
    "with open('saved_statistics_dict.pkl', 'rb') as f:\n",
    "    x = pickle.load(f)"
   ]
  },
  {
   "cell_type": "code",
   "execution_count": 93,
   "metadata": {},
   "outputs": [
    {
     "data": {
      "text/plain": [
       "33"
      ]
     },
     "execution_count": 93,
     "metadata": {},
     "output_type": "execute_result"
    }
   ],
   "source": [
    "len(x[0]['pnl'])"
   ]
  },
  {
   "cell_type": "code",
   "execution_count": null,
   "metadata": {},
   "outputs": [],
   "source": []
  }
 ],
 "metadata": {
  "kernelspec": {
   "display_name": "thesis",
   "language": "python",
   "name": "python3"
  },
  "language_info": {
   "codemirror_mode": {
    "name": "ipython",
    "version": 3
   },
   "file_extension": ".py",
   "mimetype": "text/x-python",
   "name": "python",
   "nbconvert_exporter": "python",
   "pygments_lexer": "ipython3",
   "version": "3.8.16"
  },
  "orig_nbformat": 4
 },
 "nbformat": 4,
 "nbformat_minor": 2
}
