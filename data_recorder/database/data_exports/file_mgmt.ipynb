{
 "cells": [
  {
   "cell_type": "code",
   "execution_count": 1,
   "metadata": {},
   "outputs": [],
   "source": [
    "import pandas as pd\n",
    "import numpy as np\n",
    "\n",
    "merged = pd.read_csv('XBTUSD_20200101_20200102_merge.csv.xz')\n",
    "\n",
    "cols = merged.columns[5:]\n",
    "col_tmp = cols.str.split('_').str[-1:]\n",
    "col_tmp = [int(x[0]) for x in col_tmp]\n",
    "final = [True]*5\n",
    "for x in col_tmp:\n",
    "    if x in np.arange(5,20):\n",
    "        final.append(False)\n",
    "    else:\n",
    "        final.append(True)\n",
    "\n",
    "red_cols = list()\n",
    "for col, x in zip(merged.columns, final):\n",
    "    if x:\n",
    "        red_cols.append(col)"
   ]
  },
  {
   "cell_type": "code",
   "execution_count": 2,
   "metadata": {},
   "outputs": [],
   "source": [
    "merged = pd.read_csv('XBTUSD_20200101_20200102_merge.csv.xz')\n",
    "merged_red = merged[red_cols]\n",
    "merged_red.to_csv('XBTUSD_20200101_20200102_merge_red.csv.xz', index=False, compression='xz')"
   ]
  },
  {
   "cell_type": "code",
   "execution_count": 3,
   "metadata": {},
   "outputs": [],
   "source": [
    "testing = pd.read_csv('XBTUSD_2020-01-03.csv.xz')\n",
    "testing = testing.rename(columns={\"Unnamed: 0\": \"system_time\"})\n",
    "testing_red = testing[red_cols]\n",
    "testing_red.to_csv('XBTUSD_2020-01-03_red.csv.xz', index=False, compression='xz')"
   ]
  }
 ],
 "metadata": {
  "kernelspec": {
   "display_name": "thesis",
   "language": "python",
   "name": "python3"
  },
  "language_info": {
   "codemirror_mode": {
    "name": "ipython",
    "version": 3
   },
   "file_extension": ".py",
   "mimetype": "text/x-python",
   "name": "python",
   "nbconvert_exporter": "python",
   "pygments_lexer": "ipython3",
   "version": "3.8.16"
  },
  "orig_nbformat": 4
 },
 "nbformat": 4,
 "nbformat_minor": 2
}
